{
 "cells": [
  {
   "cell_type": "markdown",
   "metadata": {},
   "source": [
    "# Pokemons dataset\n",
    "### It has some stats of pocemons, according to pokemon lore. We'll predict Legendarity. <br>\n",
    "Name = name<br>\n",
    "Type 1 = main type of pokemon<br>\n",
    "Type 2 = additional type of pokemon<br>\n",
    "Total = sum of all numerical stats<br>\n",
    "HP = health points<br>\n",
    "Attack = attack power<br>\n",
    "Defense = defense power<br>\n",
    "Sp. Atk = special attack ability power<br>\n",
    "Sp. Def = special defensive ability power<br>\n",
    "Speed = speed (mean both move speed and attack speed, i guess)<br>\n",
    "Generation = generation (some feature in pokemon selection)<br>\n",
    "Legndary = the rare-indicator feature (~8% samples have it)"
   ]
  },
  {
   "cell_type": "code",
   "execution_count": 1,
   "metadata": {},
   "outputs": [],
   "source": [
    "import numpy as np\n",
    "import pandas as pd\n",
    "import matplotlib.pyplot as plt\n",
    "import seaborn as sb\n",
    "import warnings\n",
    "warnings.filterwarnings('ignore')"
   ]
  },
  {
   "cell_type": "markdown",
   "metadata": {},
   "source": [
    "### We should change True -> 1 and False -> 0 as not every model support boolean"
   ]
  },
  {
   "cell_type": "code",
   "execution_count": 2,
   "metadata": {},
   "outputs": [
    {
     "data": {
      "text/html": [
       "<div>\n",
       "<style scoped>\n",
       "    .dataframe tbody tr th:only-of-type {\n",
       "        vertical-align: middle;\n",
       "    }\n",
       "\n",
       "    .dataframe tbody tr th {\n",
       "        vertical-align: top;\n",
       "    }\n",
       "\n",
       "    .dataframe thead th {\n",
       "        text-align: right;\n",
       "    }\n",
       "</style>\n",
       "<table border=\"1\" class=\"dataframe\">\n",
       "  <thead>\n",
       "    <tr style=\"text-align: right;\">\n",
       "      <th></th>\n",
       "      <th>Name</th>\n",
       "      <th>Type 1</th>\n",
       "      <th>Type 2</th>\n",
       "      <th>Total</th>\n",
       "      <th>HP</th>\n",
       "      <th>Attack</th>\n",
       "      <th>Defense</th>\n",
       "      <th>Sp. Atk</th>\n",
       "      <th>Sp. Def</th>\n",
       "      <th>Speed</th>\n",
       "      <th>Generation</th>\n",
       "      <th>Legendary</th>\n",
       "    </tr>\n",
       "  </thead>\n",
       "  <tbody>\n",
       "    <tr>\n",
       "      <th>0</th>\n",
       "      <td>Bulbasaur</td>\n",
       "      <td>Grass</td>\n",
       "      <td>Poison</td>\n",
       "      <td>318</td>\n",
       "      <td>45</td>\n",
       "      <td>49</td>\n",
       "      <td>49</td>\n",
       "      <td>65</td>\n",
       "      <td>65</td>\n",
       "      <td>45</td>\n",
       "      <td>1</td>\n",
       "      <td>0</td>\n",
       "    </tr>\n",
       "    <tr>\n",
       "      <th>1</th>\n",
       "      <td>Ivysaur</td>\n",
       "      <td>Grass</td>\n",
       "      <td>Poison</td>\n",
       "      <td>405</td>\n",
       "      <td>60</td>\n",
       "      <td>62</td>\n",
       "      <td>63</td>\n",
       "      <td>80</td>\n",
       "      <td>80</td>\n",
       "      <td>60</td>\n",
       "      <td>1</td>\n",
       "      <td>0</td>\n",
       "    </tr>\n",
       "    <tr>\n",
       "      <th>2</th>\n",
       "      <td>Venusaur</td>\n",
       "      <td>Grass</td>\n",
       "      <td>Poison</td>\n",
       "      <td>525</td>\n",
       "      <td>80</td>\n",
       "      <td>82</td>\n",
       "      <td>83</td>\n",
       "      <td>100</td>\n",
       "      <td>100</td>\n",
       "      <td>80</td>\n",
       "      <td>1</td>\n",
       "      <td>0</td>\n",
       "    </tr>\n",
       "    <tr>\n",
       "      <th>3</th>\n",
       "      <td>VenusaurMega Venusaur</td>\n",
       "      <td>Grass</td>\n",
       "      <td>Poison</td>\n",
       "      <td>625</td>\n",
       "      <td>80</td>\n",
       "      <td>100</td>\n",
       "      <td>123</td>\n",
       "      <td>122</td>\n",
       "      <td>120</td>\n",
       "      <td>80</td>\n",
       "      <td>1</td>\n",
       "      <td>0</td>\n",
       "    </tr>\n",
       "    <tr>\n",
       "      <th>4</th>\n",
       "      <td>Charmander</td>\n",
       "      <td>Fire</td>\n",
       "      <td>NaN</td>\n",
       "      <td>309</td>\n",
       "      <td>39</td>\n",
       "      <td>52</td>\n",
       "      <td>43</td>\n",
       "      <td>60</td>\n",
       "      <td>50</td>\n",
       "      <td>65</td>\n",
       "      <td>1</td>\n",
       "      <td>0</td>\n",
       "    </tr>\n",
       "  </tbody>\n",
       "</table>\n",
       "</div>"
      ],
      "text/plain": [
       "                    Name Type 1  Type 2  Total  HP  Attack  Defense  Sp. Atk  \\\n",
       "0              Bulbasaur  Grass  Poison    318  45      49       49       65   \n",
       "1                Ivysaur  Grass  Poison    405  60      62       63       80   \n",
       "2               Venusaur  Grass  Poison    525  80      82       83      100   \n",
       "3  VenusaurMega Venusaur  Grass  Poison    625  80     100      123      122   \n",
       "4             Charmander   Fire     NaN    309  39      52       43       60   \n",
       "\n",
       "   Sp. Def  Speed  Generation  Legendary  \n",
       "0       65     45           1          0  \n",
       "1       80     60           1          0  \n",
       "2      100     80           1          0  \n",
       "3      120     80           1          0  \n",
       "4       50     65           1          0  "
      ]
     },
     "execution_count": 2,
     "metadata": {},
     "output_type": "execute_result"
    }
   ],
   "source": [
    "pok = pd.read_csv('Pokemon.csv')\n",
    "pok.drop('#', axis=1, inplace=True)\n",
    "pok.Legendary = pok.Legendary.apply(lambda x: 1 if x else 0)\n",
    "pok.head()"
   ]
  },
  {
   "cell_type": "markdown",
   "metadata": {},
   "source": [
    "### Let's have a look at some distribution in every numeric features for each legendary and non-legendary pokemons\n",
    "(False is blue one)"
   ]
  },
  {
   "cell_type": "code",
   "execution_count": 3,
   "metadata": {},
   "outputs": [
    {
     "data": {
      "image/png": "[encoded data removed]",
      "text/plain": [
       "<Figure size 1152x432 with 8 Axes>"
      ]
     },
     "metadata": {
      "needs_background": "light"
     },
     "output_type": "display_data"
    }
   ],
   "source": [
    "fig, ax = plt.subplots(2,4, figsize=(16,6))\n",
    "ax = ax.flatten()\n",
    "i = 0\n",
    "for feature in set(pok.columns) - set(('Legendary', 'Name', 'Type 1', 'Type 2')):\n",
    "    sb.distplot(pok[(pok.Legendary == True)][feature], ax=ax[i], label=feature, color='#fe642e')\n",
    "    sb.distplot(pok[(pok.Legendary == False)][feature], ax=ax[i], color='#8258fa')\n",
    "    i += 1\n",
    "fig.tight_layout()\n",
    "\n",
    "# sb.distplot(pok[(pok.Legendary == True)], ax=ax[0,1])"
   ]
  },
  {
   "cell_type": "markdown",
   "metadata": {},
   "source": [
    "As we can see, there are some features, which can help us with future prediction of Legendarity\n",
    "### Now let's check that with a special built-in tool"
   ]
  },
  {
   "cell_type": "code",
   "execution_count": 4,
   "metadata": {},
   "outputs": [
    {
     "data": {
      "text/plain": [
       "<matplotlib.axes._subplots.AxesSubplot at 0x7f52befc2160>"
      ]
     },
     "execution_count": 4,
     "metadata": {},
     "output_type": "execute_result"
    },
    {
     "data": {
      "image/png": "[encoded data removed]",
      "text/plain": [
       "<Figure size 432x288 with 2 Axes>"
      ]
     },
     "metadata": {
      "needs_background": "light"
     },
     "output_type": "display_data"
    }
   ],
   "source": [
    "sb.heatmap(pok.corr())"
   ]
  },
  {
   "cell_type": "markdown",
   "metadata": {},
   "source": [
    "Now we found a very noizy feature, that won\\'t allow us predict our target properly. Of course we can drop it, but the fact is that .corr() show us only linear dependance of numeric values, and 'generation' is a categorical \n",
    "feature, so I'd prefer to let it in peace\n",
    "### And let's try one more plot"
   ]
  },
  {
   "cell_type": "code",
   "execution_count": 5,
   "metadata": {},
   "outputs": [
    {
     "data": {
      "text/plain": [
       "<matplotlib.axes._subplots.AxesSubplot at 0x7f52bf22b0b8>"
      ]
     },
     "execution_count": 5,
     "metadata": {},
     "output_type": "execute_result"
    },
    {
     "data": {
      "image/png": "[encoded data removed]",
      "text/plain": [
       "<Figure size 432x288 with 1 Axes>"
      ]
     },
     "metadata": {
      "needs_background": "light"
     },
     "output_type": "display_data"
    }
   ],
   "source": [
    "sb.scatterplot(x=pok[(pok.Legendary == False)]['Total'], y=pok[(pok.Legendary == False)]['Speed'])\n",
    "sb.scatterplot(x=pok[(pok.Legendary == True)]['Total'], y=pok[(pok.Legendary == True)]['Speed'])"
   ]
  },
  {
   "cell_type": "markdown",
   "metadata": {},
   "source": [
    "Here we can see, that our features are a bit discrete, so mb any tree-based models will deal the best \n",
    "### Now let's see if there are some outlier data"
   ]
  },
  {
   "cell_type": "code",
   "execution_count": 6,
   "metadata": {},
   "outputs": [
    {
     "data": {
      "text/plain": [
       "<matplotlib.axes._subplots.AxesSubplot at 0x7f52bf18fd68>"
      ]
     },
     "execution_count": 6,
     "metadata": {},
     "output_type": "execute_result"
    },
    {
     "data": {
      "image/png": "[encoded data removed]",
      "text/plain": [
       "<Figure size 432x288 with 1 Axes>"
      ]
     },
     "metadata": {
      "needs_background": "light"
     },
     "output_type": "display_data"
    }
   ],
   "source": [
    "pok[(pok.Legendary == True)][['HP', 'Attack', 'Defense', 'Sp. Atk', 'Sp. Def', 'Speed']].plot.box()"
   ]
  },
  {
   "cell_type": "code",
   "execution_count": 7,
   "metadata": {},
   "outputs": [
    {
     "data": {
      "text/plain": [
       "<matplotlib.axes._subplots.AxesSubplot at 0x7f52bc522eb8>"
      ]
     },
     "execution_count": 7,
     "metadata": {},
     "output_type": "execute_result"
    },
    {
     "data": {
      "image/png": "[encoded data removed]",
      "text/plain": [
       "<Figure size 432x288 with 1 Axes>"
      ]
     },
     "metadata": {
      "needs_background": "light"
     },
     "output_type": "display_data"
    }
   ],
   "source": [
    "pok[(pok.Legendary == False)][['HP', 'Attack', 'Defense', 'Sp. Atk', 'Sp. Def', 'Speed']].plot.box()"
   ]
  },
  {
   "cell_type": "markdown",
   "metadata": {},
   "source": [
    "Yes, we have some non-common values, so let's remember that and use RobusScaler for removing them from our train dataset\n",
    "### Time for models\n",
    "Let's chose accuracy as a score and some models, to see, which one will work better"
   ]
  },
  {
   "cell_type": "code",
   "execution_count": 8,
   "metadata": {},
   "outputs": [
    {
     "name": "stderr",
     "output_type": "stream",
     "text": [
      "/home/abyzs/anaconda3/lib/python3.7/site-packages/sklearn/ensemble/weight_boosting.py:29: DeprecationWarning: numpy.core.umath_tests is an internal NumPy module and should not be imported. It will be removed in a future NumPy release.\n",
      "  from numpy.core.umath_tests import inner1d\n"
     ]
    }
   ],
   "source": [
    "from sklearn.metrics import accuracy_score as accuracy\n",
    "from sklearn.metrics import f1_score as f1\n",
    "from sklearn.ensemble import RandomForestClassifier as RF\n",
    "from sklearn.linear_model import LogisticRegression as LR\n",
    "from sklearn.neural_network import MLPClassifier as MLP\n",
    "from sklearn.preprocessing import RobustScaler\n",
    "from sklearn.model_selection import KFold\n",
    "from sklearn.model_selection import train_test_split as tt_split"
   ]
  },
  {
   "cell_type": "code",
   "execution_count": 9,
   "metadata": {},
   "outputs": [
    {
     "data": {
      "text/html": [
       "<div>\n",
       "<style scoped>\n",
       "    .dataframe tbody tr th:only-of-type {\n",
       "        vertical-align: middle;\n",
       "    }\n",
       "\n",
       "    .dataframe tbody tr th {\n",
       "        vertical-align: top;\n",
       "    }\n",
       "\n",
       "    .dataframe thead th {\n",
       "        text-align: right;\n",
       "    }\n",
       "</style>\n",
       "<table border=\"1\" class=\"dataframe\">\n",
       "  <thead>\n",
       "    <tr style=\"text-align: right;\">\n",
       "      <th></th>\n",
       "      <th>Total</th>\n",
       "      <th>HP</th>\n",
       "      <th>Attack</th>\n",
       "      <th>Defense</th>\n",
       "      <th>Sp. Atk</th>\n",
       "      <th>Sp. Def</th>\n",
       "      <th>Speed</th>\n",
       "      <th>Generation</th>\n",
       "      <th>Legendary</th>\n",
       "      <th>Type 1_Bug</th>\n",
       "      <th>...</th>\n",
       "      <th>Type 2_Ghost</th>\n",
       "      <th>Type 2_Grass</th>\n",
       "      <th>Type 2_Ground</th>\n",
       "      <th>Type 2_Ice</th>\n",
       "      <th>Type 2_Normal</th>\n",
       "      <th>Type 2_Poison</th>\n",
       "      <th>Type 2_Psychic</th>\n",
       "      <th>Type 2_Rock</th>\n",
       "      <th>Type 2_Steel</th>\n",
       "      <th>Type 2_Water</th>\n",
       "    </tr>\n",
       "  </thead>\n",
       "  <tbody>\n",
       "    <tr>\n",
       "      <th>0</th>\n",
       "      <td>318</td>\n",
       "      <td>45</td>\n",
       "      <td>49</td>\n",
       "      <td>49</td>\n",
       "      <td>65</td>\n",
       "      <td>65</td>\n",
       "      <td>45</td>\n",
       "      <td>1</td>\n",
       "      <td>0</td>\n",
       "      <td>0</td>\n",
       "      <td>...</td>\n",
       "      <td>0</td>\n",
       "      <td>0</td>\n",
       "      <td>0</td>\n",
       "      <td>0</td>\n",
       "      <td>0</td>\n",
       "      <td>1</td>\n",
       "      <td>0</td>\n",
       "      <td>0</td>\n",
       "      <td>0</td>\n",
       "      <td>0</td>\n",
       "    </tr>\n",
       "    <tr>\n",
       "      <th>1</th>\n",
       "      <td>405</td>\n",
       "      <td>60</td>\n",
       "      <td>62</td>\n",
       "      <td>63</td>\n",
       "      <td>80</td>\n",
       "      <td>80</td>\n",
       "      <td>60</td>\n",
       "      <td>1</td>\n",
       "      <td>0</td>\n",
       "      <td>0</td>\n",
       "      <td>...</td>\n",
       "      <td>0</td>\n",
       "      <td>0</td>\n",
       "      <td>0</td>\n",
       "      <td>0</td>\n",
       "      <td>0</td>\n",
       "      <td>1</td>\n",
       "      <td>0</td>\n",
       "      <td>0</td>\n",
       "      <td>0</td>\n",
       "      <td>0</td>\n",
       "    </tr>\n",
       "    <tr>\n",
       "      <th>2</th>\n",
       "      <td>525</td>\n",
       "      <td>80</td>\n",
       "      <td>82</td>\n",
       "      <td>83</td>\n",
       "      <td>100</td>\n",
       "      <td>100</td>\n",
       "      <td>80</td>\n",
       "      <td>1</td>\n",
       "      <td>0</td>\n",
       "      <td>0</td>\n",
       "      <td>...</td>\n",
       "      <td>0</td>\n",
       "      <td>0</td>\n",
       "      <td>0</td>\n",
       "      <td>0</td>\n",
       "      <td>0</td>\n",
       "      <td>1</td>\n",
       "      <td>0</td>\n",
       "      <td>0</td>\n",
       "      <td>0</td>\n",
       "      <td>0</td>\n",
       "    </tr>\n",
       "    <tr>\n",
       "      <th>3</th>\n",
       "      <td>625</td>\n",
       "      <td>80</td>\n",
       "      <td>100</td>\n",
       "      <td>123</td>\n",
       "      <td>122</td>\n",
       "      <td>120</td>\n",
       "      <td>80</td>\n",
       "      <td>1</td>\n",
       "      <td>0</td>\n",
       "      <td>0</td>\n",
       "      <td>...</td>\n",
       "      <td>0</td>\n",
       "      <td>0</td>\n",
       "      <td>0</td>\n",
       "      <td>0</td>\n",
       "      <td>0</td>\n",
       "      <td>1</td>\n",
       "      <td>0</td>\n",
       "      <td>0</td>\n",
       "      <td>0</td>\n",
       "      <td>0</td>\n",
       "    </tr>\n",
       "    <tr>\n",
       "      <th>4</th>\n",
       "      <td>309</td>\n",
       "      <td>39</td>\n",
       "      <td>52</td>\n",
       "      <td>43</td>\n",
       "      <td>60</td>\n",
       "      <td>50</td>\n",
       "      <td>65</td>\n",
       "      <td>1</td>\n",
       "      <td>0</td>\n",
       "      <td>0</td>\n",
       "      <td>...</td>\n",
       "      <td>0</td>\n",
       "      <td>0</td>\n",
       "      <td>0</td>\n",
       "      <td>0</td>\n",
       "      <td>0</td>\n",
       "      <td>0</td>\n",
       "      <td>0</td>\n",
       "      <td>0</td>\n",
       "      <td>0</td>\n",
       "      <td>0</td>\n",
       "    </tr>\n",
       "  </tbody>\n",
       "</table>\n",
       "<p>5 rows × 45 columns</p>\n",
       "</div>"
      ],
      "text/plain": [
       "   Total  HP  Attack  Defense  Sp. Atk  Sp. Def  Speed  Generation  Legendary  \\\n",
       "0    318  45      49       49       65       65     45           1          0   \n",
       "1    405  60      62       63       80       80     60           1          0   \n",
       "2    525  80      82       83      100      100     80           1          0   \n",
       "3    625  80     100      123      122      120     80           1          0   \n",
       "4    309  39      52       43       60       50     65           1          0   \n",
       "\n",
       "   Type 1_Bug      ...       Type 2_Ghost  Type 2_Grass  Type 2_Ground  \\\n",
       "0           0      ...                  0             0              0   \n",
       "1           0      ...                  0             0              0   \n",
       "2           0      ...                  0             0              0   \n",
       "3           0      ...                  0             0              0   \n",
       "4           0      ...                  0             0              0   \n",
       "\n",
       "   Type 2_Ice  Type 2_Normal  Type 2_Poison  Type 2_Psychic  Type 2_Rock  \\\n",
       "0           0              0              1               0            0   \n",
       "1           0              0              1               0            0   \n",
       "2           0              0              1               0            0   \n",
       "3           0              0              1               0            0   \n",
       "4           0              0              0               0            0   \n",
       "\n",
       "   Type 2_Steel  Type 2_Water  \n",
       "0             0             0  \n",
       "1             0             0  \n",
       "2             0             0  \n",
       "3             0             0  \n",
       "4             0             0  \n",
       "\n",
       "[5 rows x 45 columns]"
      ]
     },
     "execution_count": 9,
     "metadata": {},
     "output_type": "execute_result"
    }
   ],
   "source": [
    "pok.fillna('None')\n",
    "pok = pok.join(pd.get_dummies(pok[['Type 1', 'Type 2']]))\n",
    "pok.drop(['Type 1', 'Type 2', 'Name'], axis=1, inplace=True)\n",
    "pok.fillna(0)\n",
    "pok_t = pok.drop('Legendary', axis=1)\n",
    "pok_v = pok['Legendary']\n",
    "pok.head()"
   ]
  },
  {
   "cell_type": "code",
   "execution_count": 10,
   "metadata": {},
   "outputs": [],
   "source": [
    "pok_trn, pok_test_trn, pok_val, pok_test_val = tt_split(pok_t, pok_v, train_size=0.8)\n",
    "pok_trn.reset_index(inplace=True)\n",
    "pok_val = pok_val.reset_index()\n",
    "pok_test_trn.reset_index(inplace=True)\n",
    "pok_test_val = pok_test_val.reset_index()"
   ]
  },
  {
   "cell_type": "code",
   "execution_count": 11,
   "metadata": {},
   "outputs": [],
   "source": [
    "models = [\n",
    "    RF(n_jobs=-1, n_estimators=200, random_state=42),\n",
    "    LR(max_iter=200, random_state=42, solver='liblinear'),\n",
    "    LR(max_iter=200, random_state=42, solver='lbfgs'),\n",
    "    MLP(random_state=42, max_iter=200)\n",
    "]\n",
    "models_names = [\n",
    "    'RandomForest',\n",
    "    'LogisticRegressionLinear',\n",
    "    'LogisticRegressionLbfgs',\n",
    "    'MLPClassifier'\n",
    "]\n",
    "\n",
    "rezults_acc = []\n",
    "rezults_f1 = []"
   ]
  },
  {
   "cell_type": "code",
   "execution_count": 12,
   "metadata": {},
   "outputs": [
    {
     "name": "stdout",
     "output_type": "stream",
     "text": [
      "RandomForest has 96.09% accuracy and 76.80% f1-score\n",
      "LogisticRegressionLinear has 95.00% accuracy and 61.75% f1-score\n",
      "LogisticRegressionLbfgs has 95.62% accuracy and 72.56% f1-score\n",
      "MLPClassifier has 87.97% accuracy and 22.41% f1-score\n"
     ]
    }
   ],
   "source": [
    "splitter = KFold(n_splits=5, shuffle=True, random_state=42)\n",
    "rezult_acc = {'preprocessing': 'None'}\n",
    "rezult_f = {'preprocessing': 'None'}\n",
    "for i in range(len(models)):\n",
    "    m = models[i]\n",
    "    name = models_names[i]\n",
    "    acc = []\n",
    "    f = []\n",
    "    for trn, val in splitter.split(pok_trn):\n",
    "        m.fit(pok_trn.iloc[trn,:], pok_val.iloc[trn, 1])\n",
    "        prediction = m.predict(pok_trn.iloc[val,:])\n",
    "        acc.append(accuracy(pok_val.iloc[val, 1], prediction))\n",
    "        f.append(f1(pok_val.iloc[val, 1], prediction))\n",
    "    print(f'{name} has {sum(acc) / len(acc)*100:.2f}% accuracy and {sum(f) / len(f)*100:.2f}% f1-score')\n",
    "    rezult_acc[name] = np.round(sum(acc) / len(acc)*100, 2)\n",
    "    rezult_f[name] = np.round(sum(f) / len(f)*100, 2)\n",
    "rezults_acc.append(rezult_acc)\n",
    "rezults_f1.append(rezult_f)"
   ]
  },
  {
   "cell_type": "markdown",
   "metadata": {},
   "source": [
    "We can see, that RandomForest is a leader<br>\n",
    "Now let's have some work with outliers and classweights"
   ]
  },
  {
   "cell_type": "code",
   "execution_count": 13,
   "metadata": {},
   "outputs": [
    {
     "name": "stdout",
     "output_type": "stream",
     "text": [
      "RandomForest has 96.09% accuracy and 76.80% f1-score\n",
      "LogisticRegressionLinear has 95.00% accuracy and 61.75% f1-score\n",
      "LogisticRegressionLbfgs has 95.62% accuracy and 72.56% f1-score\n",
      "MLPClassifier has 87.97% accuracy and 22.41% f1-score\n"
     ]
    }
   ],
   "source": [
    "splitter = KFold(n_splits=5, shuffle=True, random_state=42)\n",
    "rs = RobustScaler(with_centering=False, with_scaling=False, quantile_range=(25.0, 75.0))\n",
    "rezult_acc = {'preprocessing': 'Outliers'}\n",
    "rezult_f = {'preprocessing': 'Outliers'}\n",
    "for i in range(len(models)):\n",
    "    m = models[i]\n",
    "    name = models_names[i]\n",
    "    acc = []\n",
    "    f = []\n",
    "    for trn, val in splitter.split(pok_trn):\n",
    "        m.fit(rs.fit_transform(pok_trn.iloc[trn,:]), pok_val.iloc[trn, 1])\n",
    "        prediction = m.predict(rs.transform(pok_trn.iloc[val,:]))\n",
    "        acc.append(accuracy(pok_val.iloc[val, 1], prediction))\n",
    "        f.append(f1(pok_val.iloc[val, 1], prediction))\n",
    "    print(f'{name} has {sum(acc) / len(acc)*100:.2f}% accuracy and {sum(f) / len(f)*100:.2f}% f1-score')\n",
    "    rezult_acc[name] = np.round(sum(acc) / len(acc)*100, 2)\n",
    "    rezult_f[name] = np.round(sum(f) / len(f)*100, 2)\n",
    "rezults_acc.append(rezult_acc)\n",
    "rezults_f1.append(rezult_f)"
   ]
  },
  {
   "cell_type": "markdown",
   "metadata": {},
   "source": [
    "Looks like outliers not the real problem in this dataset, but let's do the same, but with scaling and centering"
   ]
  },
  {
   "cell_type": "code",
   "execution_count": 14,
   "metadata": {},
   "outputs": [
    {
     "name": "stdout",
     "output_type": "stream",
     "text": [
      "RandomForest has 95.94% accuracy and 75.52% f1-score\n",
      "LogisticRegressionLinear has 94.69% accuracy and 62.75% f1-score\n",
      "LogisticRegressionLbfgs has 95.31% accuracy and 68.81% f1-score\n",
      "MLPClassifier has 95.94% accuracy and 73.52% f1-score\n"
     ]
    }
   ],
   "source": [
    "splitter = KFold(n_splits=5, shuffle=True, random_state=42)\n",
    "rs = RobustScaler(with_centering=True, with_scaling=True, quantile_range=(25.0, 75.0))\n",
    "rezult_acc = {'preprocessing': 'Outliers, scalling'}\n",
    "rezult_f = {'preprocessing': 'Outliers, scalling'}\n",
    "for i in range(len(models)):\n",
    "    m = models[i]\n",
    "    name = models_names[i]\n",
    "    acc = []\n",
    "    f = []\n",
    "    for trn, val in splitter.split(pok_trn):\n",
    "        m.fit(rs.fit_transform(pok_trn.iloc[trn,:]), pok_val.iloc[trn, 1])\n",
    "        prediction = m.predict(rs.transform(pok_trn.iloc[val,:]))\n",
    "        acc.append(accuracy(pok_val.iloc[val, 1], prediction))\n",
    "        f.append(f1(pok_val.iloc[val, 1], prediction))\n",
    "    print(f'{name} has {sum(acc) / len(acc)*100:.2f}% accuracy and {sum(f) / len(f)*100:.2f}% f1-score')\n",
    "    rezult_acc[name] = np.round(sum(acc) / len(acc)*100, 2)\n",
    "    rezult_f[name] = np.round(sum(f) / len(f)*100, 2)\n",
    "rezults_acc.append(rezult_acc)\n",
    "rezults_f1.append(rezult_f)"
   ]
  },
  {
   "cell_type": "markdown",
   "metadata": {},
   "source": [
    "That looks pretty good. Almost every model has score upgraid. Going forward - now time for class weights. First way is to pick as many samples as has the lesser class"
   ]
  },
  {
   "cell_type": "code",
   "execution_count": 15,
   "metadata": {},
   "outputs": [
    {
     "name": "stdout",
     "output_type": "stream",
     "text": [
      "RandomForest has 94.22% accuracy and 74.95% f1-score\n",
      "LogisticRegressionLinear has 92.97% accuracy and 70.46% f1-score\n",
      "LogisticRegressionLbfgs has 92.81% accuracy and 70.05% f1-score\n",
      "MLPClassifier has 90.47% accuracy and 63.21% f1-score\n"
     ]
    }
   ],
   "source": [
    "def balance(df, target):\n",
    "    positive = len(df[df[target] == 1])\n",
    "    negative = len(df[df[target] == 0])\n",
    "    maks_rows = min(positive, negative)\n",
    "    a = df[(df[target] == 1)].index.values\n",
    "    a = a[:maks_rows]\n",
    "    b = df[(df[target] == 0)].index.values\n",
    "    b = b[:maks_rows]\n",
    "    return np.concatenate([a,b])\n",
    "\n",
    "\n",
    "\n",
    "splitter = KFold(n_splits=5, shuffle=True, random_state=42)\n",
    "rs = RobustScaler(with_centering=True, with_scaling=True, quantile_range=(25.0, 75.0))\n",
    "rezult_acc = {'preprocessing': 'Outliers, scalling, min weight'}\n",
    "rezult_f = {'preprocessing': 'Outliers, scalling, min weight'}\n",
    "for i in range(len(models)):\n",
    "    m = models[i]\n",
    "    name = models_names[i]\n",
    "    acc = []\n",
    "    f = []\n",
    "    for trn, val in splitter.split(pok_trn):\n",
    "        trn = balance(pok_trn.iloc[trn].join(pok_val.iloc[trn, 1]), 'Legendary')\n",
    "        m.fit(rs.fit_transform(pok_trn.iloc[trn,:]), pok_val.iloc[trn, 1])\n",
    "        prediction = m.predict(rs.transform(pok_trn.iloc[val,:]))\n",
    "        acc.append(accuracy(pok_val.iloc[val, 1], prediction))\n",
    "        f.append(f1(pok_val.iloc[val, 1], prediction))\n",
    "    print(f'{name} has {sum(acc) / len(acc)*100:.2f}% accuracy and {sum(f) / len(f)*100:.2f}% f1-score')\n",
    "    rezult_acc[name] = np.round(sum(acc) / len(acc)*100, 2)\n",
    "    rezult_f[name] = np.round(sum(f) / len(f)*100, 2)\n",
    "rezults_acc.append(rezult_acc)\n",
    "rezults_f1.append(rezult_f)"
   ]
  },
  {
   "cell_type": "markdown",
   "metadata": {},
   "source": [
    "And again we see score raising (except MLPClassifier). But let's see if there any different ways we can deal with unbalanced data. Let's pick as many samples as has bigger class"
   ]
  },
  {
   "cell_type": "code",
   "execution_count": 16,
   "metadata": {},
   "outputs": [
    {
     "name": "stdout",
     "output_type": "stream",
     "text": [
      "RandomForest has 96.09% accuracy and 79.08% f1-score\n",
      "LogisticRegressionLinear has 94.22% accuracy and 73.95% f1-score\n",
      "LogisticRegressionLbfgs has 93.91% accuracy and 72.63% f1-score\n",
      "MLPClassifier has 95.62% accuracy and 74.70% f1-score\n"
     ]
    }
   ],
   "source": [
    "def balance(df, target):\n",
    "    positive = len(df[df[target] == 1])\n",
    "    negative = len(df[df[target] == 0])\n",
    "    maks_rows = max(negative, positive)\n",
    "    min_rows = min(negative, positive)\n",
    "    max_target = np.argmax([negative, positive])\n",
    "    min_target = np.argmin([negative, positive])\n",
    "    # we'll duplicate every sample in small class 'scaller' times\n",
    "    scaler = maks_rows // min_rows\n",
    "    \n",
    "    a = df[df[target] == max_target].sample(frac=1)\n",
    "    a = a.index.values[:scaler * min_rows]\n",
    "    \n",
    "    b = df[df[target] == min_target].sample(frac=1)\n",
    "    b = b.index.values[:min_rows]\n",
    "    b = np.repeat(b, scaler)\n",
    "    \n",
    "    return np.concatenate([a, b])\n",
    "\n",
    "\n",
    "\n",
    "splitter = KFold(n_splits=5, shuffle=True, random_state=42)\n",
    "rs = RobustScaler(with_centering=True, with_scaling=True, quantile_range=(25.0, 75.0))\n",
    "rezult_acc = {'preprocessing': 'Outliers, scalling, max weight'}\n",
    "rezult_f = {'preprocessing': 'Outliers, scalling, max weight'}\n",
    "for i in range(len(models)):\n",
    "    m = models[i]\n",
    "    name = models_names[i]\n",
    "    acc = []\n",
    "    f = []\n",
    "    for trn, val in splitter.split(pok_trn):\n",
    "        trn = balance(pok_trn.iloc[trn].join(pok_val.iloc[trn, 1]), 'Legendary')\n",
    "        m.fit(rs.fit_transform(pok_trn.iloc[trn,:]), pok_val.iloc[trn, 1])\n",
    "        prediction = m.predict(rs.transform(pok_trn.iloc[val,:]))\n",
    "        acc.append(accuracy(pok_val.iloc[val, 1], prediction))\n",
    "        f.append(f1(pok_val.iloc[val, 1], prediction))\n",
    "    print(f'{name} has {sum(acc) / len(acc)*100:.2f}% accuracy and {sum(f) / len(f)*100:.2f}% f1-score')\n",
    "    rezult_acc[name] = np.round(sum(acc) / len(acc)*100, 2)\n",
    "    rezult_f[name] = np.round(sum(f) / len(f)*100, 2)\n",
    "rezults_acc.append(rezult_acc)\n",
    "rezults_f1.append(rezult_f)"
   ]
  },
  {
   "cell_type": "markdown",
   "metadata": {},
   "source": [
    "As we can see this method works better. It can be explained as we has very small positive class (8%)\n",
    "### Now let's have a look at a table with all rezults"
   ]
  },
  {
   "cell_type": "code",
   "execution_count": 17,
   "metadata": {},
   "outputs": [
    {
     "data": {
      "text/html": [
       "<div>\n",
       "<style scoped>\n",
       "    .dataframe tbody tr th:only-of-type {\n",
       "        vertical-align: middle;\n",
       "    }\n",
       "\n",
       "    .dataframe tbody tr th {\n",
       "        vertical-align: top;\n",
       "    }\n",
       "\n",
       "    .dataframe thead th {\n",
       "        text-align: right;\n",
       "    }\n",
       "</style>\n",
       "<table border=\"1\" class=\"dataframe\">\n",
       "  <thead>\n",
       "    <tr style=\"text-align: right;\">\n",
       "      <th></th>\n",
       "      <th>LogisticRegressionLbfgs</th>\n",
       "      <th>LogisticRegressionLinear</th>\n",
       "      <th>MLPClassifier</th>\n",
       "      <th>RandomForest</th>\n",
       "      <th>preprocessing</th>\n",
       "    </tr>\n",
       "  </thead>\n",
       "  <tbody>\n",
       "    <tr>\n",
       "      <th>0</th>\n",
       "      <td>95.62</td>\n",
       "      <td>95.00</td>\n",
       "      <td>87.97</td>\n",
       "      <td>96.09</td>\n",
       "      <td>None</td>\n",
       "    </tr>\n",
       "    <tr>\n",
       "      <th>1</th>\n",
       "      <td>95.62</td>\n",
       "      <td>95.00</td>\n",
       "      <td>87.97</td>\n",
       "      <td>96.09</td>\n",
       "      <td>Outliers</td>\n",
       "    </tr>\n",
       "    <tr>\n",
       "      <th>2</th>\n",
       "      <td>95.31</td>\n",
       "      <td>94.69</td>\n",
       "      <td>95.94</td>\n",
       "      <td>95.94</td>\n",
       "      <td>Outliers, scalling</td>\n",
       "    </tr>\n",
       "    <tr>\n",
       "      <th>3</th>\n",
       "      <td>92.81</td>\n",
       "      <td>92.97</td>\n",
       "      <td>90.47</td>\n",
       "      <td>94.22</td>\n",
       "      <td>Outliers, scalling, min weight</td>\n",
       "    </tr>\n",
       "    <tr>\n",
       "      <th>4</th>\n",
       "      <td>93.91</td>\n",
       "      <td>94.22</td>\n",
       "      <td>95.62</td>\n",
       "      <td>96.09</td>\n",
       "      <td>Outliers, scalling, max weight</td>\n",
       "    </tr>\n",
       "  </tbody>\n",
       "</table>\n",
       "</div>"
      ],
      "text/plain": [
       "   LogisticRegressionLbfgs  LogisticRegressionLinear  MLPClassifier  \\\n",
       "0                    95.62                     95.00          87.97   \n",
       "1                    95.62                     95.00          87.97   \n",
       "2                    95.31                     94.69          95.94   \n",
       "3                    92.81                     92.97          90.47   \n",
       "4                    93.91                     94.22          95.62   \n",
       "\n",
       "   RandomForest                   preprocessing  \n",
       "0         96.09                            None  \n",
       "1         96.09                        Outliers  \n",
       "2         95.94              Outliers, scalling  \n",
       "3         94.22  Outliers, scalling, min weight  \n",
       "4         96.09  Outliers, scalling, max weight  "
      ]
     },
     "execution_count": 17,
     "metadata": {},
     "output_type": "execute_result"
    }
   ],
   "source": [
    "pd.DataFrame(rezults_acc)"
   ]
  },
  {
   "cell_type": "code",
   "execution_count": 18,
   "metadata": {},
   "outputs": [
    {
     "data": {
      "text/html": [
       "<div>\n",
       "<style scoped>\n",
       "    .dataframe tbody tr th:only-of-type {\n",
       "        vertical-align: middle;\n",
       "    }\n",
       "\n",
       "    .dataframe tbody tr th {\n",
       "        vertical-align: top;\n",
       "    }\n",
       "\n",
       "    .dataframe thead th {\n",
       "        text-align: right;\n",
       "    }\n",
       "</style>\n",
       "<table border=\"1\" class=\"dataframe\">\n",
       "  <thead>\n",
       "    <tr style=\"text-align: right;\">\n",
       "      <th></th>\n",
       "      <th>LogisticRegressionLbfgs</th>\n",
       "      <th>LogisticRegressionLinear</th>\n",
       "      <th>MLPClassifier</th>\n",
       "      <th>RandomForest</th>\n",
       "      <th>preprocessing</th>\n",
       "    </tr>\n",
       "  </thead>\n",
       "  <tbody>\n",
       "    <tr>\n",
       "      <th>0</th>\n",
       "      <td>72.56</td>\n",
       "      <td>61.75</td>\n",
       "      <td>22.41</td>\n",
       "      <td>76.80</td>\n",
       "      <td>None</td>\n",
       "    </tr>\n",
       "    <tr>\n",
       "      <th>1</th>\n",
       "      <td>72.56</td>\n",
       "      <td>61.75</td>\n",
       "      <td>22.41</td>\n",
       "      <td>76.80</td>\n",
       "      <td>Outliers</td>\n",
       "    </tr>\n",
       "    <tr>\n",
       "      <th>2</th>\n",
       "      <td>68.81</td>\n",
       "      <td>62.75</td>\n",
       "      <td>73.52</td>\n",
       "      <td>75.52</td>\n",
       "      <td>Outliers, scalling</td>\n",
       "    </tr>\n",
       "    <tr>\n",
       "      <th>3</th>\n",
       "      <td>70.05</td>\n",
       "      <td>70.46</td>\n",
       "      <td>63.21</td>\n",
       "      <td>74.95</td>\n",
       "      <td>Outliers, scalling, min weight</td>\n",
       "    </tr>\n",
       "    <tr>\n",
       "      <th>4</th>\n",
       "      <td>72.63</td>\n",
       "      <td>73.95</td>\n",
       "      <td>74.70</td>\n",
       "      <td>79.08</td>\n",
       "      <td>Outliers, scalling, max weight</td>\n",
       "    </tr>\n",
       "  </tbody>\n",
       "</table>\n",
       "</div>"
      ],
      "text/plain": [
       "   LogisticRegressionLbfgs  LogisticRegressionLinear  MLPClassifier  \\\n",
       "0                    72.56                     61.75          22.41   \n",
       "1                    72.56                     61.75          22.41   \n",
       "2                    68.81                     62.75          73.52   \n",
       "3                    70.05                     70.46          63.21   \n",
       "4                    72.63                     73.95          74.70   \n",
       "\n",
       "   RandomForest                   preprocessing  \n",
       "0         76.80                            None  \n",
       "1         76.80                        Outliers  \n",
       "2         75.52              Outliers, scalling  \n",
       "3         74.95  Outliers, scalling, min weight  \n",
       "4         79.08  Outliers, scalling, max weight  "
      ]
     },
     "execution_count": 18,
     "metadata": {},
     "output_type": "execute_result"
    }
   ],
   "source": [
    "pd.DataFrame(rezults_f1)"
   ]
  },
  {
   "cell_type": "markdown",
   "metadata": {},
   "source": [
    "This table show us, that doesn't even matter which metric did you choose for yor ml problem. Almoust every time you should somehow clean your train data to improve rezult\n",
    "### Now we should check our best model (RandomForest) on test data"
   ]
  },
  {
   "cell_type": "code",
   "execution_count": 19,
   "metadata": {},
   "outputs": [
    {
     "name": "stdout",
     "output_type": "stream",
     "text": [
      "Accuracy: 99.38%\n",
      "F1 score: 94.74%\n"
     ]
    }
   ],
   "source": [
    "trn = balance(pok_test_trn.join(pok_test_val.iloc[:, 1]), 'Legendary')\n",
    "m.fit(rs.fit_transform(pok_test_trn), pok_test_val.iloc[:, 1])\n",
    "prediction = m.predict(rs.transform(pok_test_trn))\n",
    "print(f'Accuracy: {accuracy(pok_test_val.iloc[:, 1], prediction)*100:.2f}%')\n",
    "print(f'F1 score: {f1(pok_test_val.iloc[:, 1], prediction)*100:.2f}%')"
   ]
  },
  {
   "cell_type": "markdown",
   "metadata": {},
   "source": [
    "So, after checking on the test data we see, that score didn't drop down. It means that our model work good, and we got a valid score"
   ]
  },
  {
   "cell_type": "code",
   "execution_count": null,
   "metadata": {},
   "outputs": [],
   "source": []
  }
 ],
 "metadata": {
  "kernelspec": {
   "display_name": "Python 3",
   "language": "python",
   "name": "python3"
  },
  "language_info": {
   "codemirror_mode": {
    "name": "ipython",
    "version": 3
   },
   "file_extension": ".py",
   "mimetype": "text/x-python",
   "name": "python",
   "nbconvert_exporter": "python",
   "pygments_lexer": "ipython3",
   "version": "3.7.0"
  }
 },
 "nbformat": 4,
 "nbformat_minor": 2
}
